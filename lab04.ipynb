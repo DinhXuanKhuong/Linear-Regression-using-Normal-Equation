{
 "cells": [
  {
   "cell_type": "markdown",
   "metadata": {},
   "source": [
    "# <center>Lab 04: OLS Linear Regression</center>"
   ]
  },
  {
   "cell_type": "markdown",
   "metadata": {},
   "source": [
    "## Mục lục\n",
    "- [Chuẩn bị](#c1)\n",
    "- [Hồi quy tuyến tính sử dụng phương pháp bình phương tối thiểu (OLS Linear Regression)](#c2)\n",
    "- [Phương pháp đo lường độ lỗi (sai số)](#c3)"
   ]
  },
  {
   "cell_type": "markdown",
   "metadata": {},
   "source": [
    "## Chuẩn bị <a class=\"anchor\" id=\"c1\"></a>"
   ]
  },
  {
   "cell_type": "code",
   "execution_count": 74,
   "metadata": {},
   "outputs": [],
   "source": [
    "import numpy as np\n",
    "import matplotlib.pyplot as plt"
   ]
  },
  {
   "cell_type": "markdown",
   "metadata": {},
   "source": [
    "### Dữ liệu"
   ]
  },
  {
   "cell_type": "markdown",
   "metadata": {},
   "source": [
    "Sử dụng dữ liệu từ Bài 7 trong Bài tập 4 (Exercise 04).\n",
    "Một vật rơi theo phương thẳng đứng theo phương trình sau:\n",
    "\n",
    "$$s = s_0 + v_0t + \\frac{1}{2}gt^2 \\ (*)$$\n",
    "\n",
    "Người ta thực hiện thí nghiệm thu được kết quả như sau:\n",
    "\n",
    "| t (x) | 0.1 | 0.2 | 0.3 | 0.4 | 0.5 |\n",
    "|---|---|---|---|---|---|\n",
    "| s (y) | -0.18 | 0.31 | 1.03 | 2.48 | 3.73 |"
   ]
  },
  {
   "cell_type": "markdown",
   "metadata": {},
   "source": [
    "### Trực quan hóa"
   ]
  },
  {
   "cell_type": "code",
   "execution_count": 75,
   "metadata": {},
   "outputs": [
    {
     "data": {
      "text/plain": [
       "(array([[0.1],\n",
       "        [0.2],\n",
       "        [0.3],\n",
       "        [0.4],\n",
       "        [0.5]]),\n",
       " array([[-0.18],\n",
       "        [ 0.31],\n",
       "        [ 1.03],\n",
       "        [ 2.48],\n",
       "        [ 3.73]]))"
      ]
     },
     "execution_count": 75,
     "metadata": {},
     "output_type": "execute_result"
    }
   ],
   "source": [
    "x = np.array([0.1, 0.2, 0.3, 0.4, 0.5]).reshape(-1, 1)\n",
    "y = np.array([-0.18, 0.31, 1.03, 2.48, 3.73]).reshape(-1, 1)\n",
    "x, y"
   ]
  },
  {
   "cell_type": "code",
   "execution_count": 76,
   "metadata": {},
   "outputs": [],
   "source": [
    "def plot_data(x, y):\n",
    "    ''' \n",
    "    This function is used to plot the data. It plots the data as a scatter plot using the plt.scatter() function.\n",
    "\n",
    "    Parameters\n",
    "    ----------\n",
    "    x : np.array\n",
    "        Input data\n",
    "    y : np.array\n",
    "        Output data\n",
    "\n",
    "    Returns\n",
    "    -------\n",
    "    None\n",
    "    '''\n",
    "\n",
    "\n",
    "    plt.scatter(x, y, color='b', marker='o')\n",
    "    \n",
    "  \n",
    "    plt.xlabel('x')\n",
    "    plt.ylabel('y')\n",
    "  \n",
    "    plt.grid()\n",
    "    plt.show()"
   ]
  },
  {
   "cell_type": "code",
   "execution_count": 77,
   "metadata": {
    "scrolled": false
   },
   "outputs": [
    {
     "data": {
      "image/png": "[encoded data removed]",
      "text/plain": [
       "<Figure size 640x480 with 1 Axes>"
      ]
     },
     "metadata": {},
     "output_type": "display_data"
    }
   ],
   "source": [
    "plot_data(x, y)"
   ]
  },
  {
   "cell_type": "markdown",
   "metadata": {},
   "source": [
    "## Hồi quy tuyến tính sử dụng phương pháp bình phương tối thiểu (OLS Linear Regression) <a class=\"anchor\" id=\"c2\"></a>"
   ]
  },
  {
   "cell_type": "markdown",
   "metadata": {},
   "source": [
    "Ta cần tìm nghiệm của phương trình $Ax \\approx b$."
   ]
  },
  {
   "cell_type": "markdown",
   "metadata": {},
   "source": [
    "Xét ma trận **A** có kích thước *m x n* (*m* > *n*) và vector (cột) **b** có kích thước *m*. Ta có chuẩn Euclidean của bình phương phần dư $r$ của $Ax - b$ như sau:\n",
    "\n",
    "**$$r = ||Ax - b||^{2} \\ \\ \\ \\  (1) $$**\n"
   ]
  },
  {
   "cell_type": "markdown",
   "metadata": {},
   "source": [
    "Để giải được nghiệm $x$ cho hệ phương trình, ta thực hiện tối thiểu hóa công thức (1) được nghiệm $x$ của hệ phương trình được tính như sau:\n",
    "\n",
    "$$x = (A^T A)^{-1} A^T b$$\n",
    "\n",
    "*Note: $(A^T A)^{-1} A^T$, aka $A^\\dagger$, là ma trận giả nghịch đảo (pseudo-inverse) của A.*"
   ]
  },
  {
   "cell_type": "markdown",
   "metadata": {},
   "source": [
    "Bài thực hành này sử dụng tên gọi khác cho đầu vào, đầu ra và tham số trong hồi quy tuyến tính như sau:\n",
    "- $A \\to X$\n",
    "- $b \\to y$\n",
    "- $x \\to w$ ($w$: weight)\n",
    "\n",
    "$Ax \\approx b \\to Xw \\approx y$ hay $ Xw = y$ ($y$ được gọi là đường hồi quy (regression line))."
   ]
  },
  {
   "cell_type": "markdown",
   "metadata": {},
   "source": [
    "### Tiền xử lý"
   ]
  },
  {
   "cell_type": "markdown",
   "metadata": {},
   "source": [
    "Tiền xử lý dữ liệu theo phương trình: $$s = s_0 + v_0t + \\frac{1}{2}gt^2$$"
   ]
  },
  {
   "cell_type": "code",
   "execution_count": null,
   "metadata": {},
   "outputs": [],
   "source": [
    "def preprocess(x):\n",
    "    ''' \n",
    "    This function is used to preprocess the data. It adds a column of ones to the input data and squares the input data.\n",
    "    Note for long-term: 3 columns are 3 different features for the model to learn from.\n",
    "    \n",
    "    Parameters\n",
    "    ----------\n",
    "    x : np.array\n",
    "        Input data\n",
    "\n",
    "    Returns\n",
    "    -------\n",
    "    X : np.array\n",
    "        Preprocessed input data\n",
    "    '''\n",
    "    X = np.hstack((np.ones((x.shape[0], 1)), x, x**2))\n",
    "\n",
    "    return X"
   ]
  },
  {
   "cell_type": "code",
   "execution_count": 79,
   "metadata": {},
   "outputs": [
    {
     "data": {
      "text/plain": [
       "(array([[0.1],\n",
       "        [0.2],\n",
       "        [0.3],\n",
       "        [0.4],\n",
       "        [0.5]]),\n",
       " array([[-0.18],\n",
       "        [ 0.31],\n",
       "        [ 1.03],\n",
       "        [ 2.48],\n",
       "        [ 3.73]]))"
      ]
     },
     "execution_count": 79,
     "metadata": {},
     "output_type": "execute_result"
    }
   ],
   "source": [
    "x, y"
   ]
  },
  {
   "cell_type": "code",
   "execution_count": 80,
   "metadata": {},
   "outputs": [
    {
     "data": {
      "text/plain": [
       "(array([[1.  , 0.1 , 0.01],\n",
       "        [1.  , 0.2 , 0.04],\n",
       "        [1.  , 0.3 , 0.09],\n",
       "        [1.  , 0.4 , 0.16],\n",
       "        [1.  , 0.5 , 0.25]]),\n",
       " array([[-0.18],\n",
       "        [ 0.31],\n",
       "        [ 1.03],\n",
       "        [ 2.48],\n",
       "        [ 3.73]]))"
      ]
     },
     "execution_count": 80,
     "metadata": {},
     "output_type": "execute_result"
    }
   ],
   "source": [
    "X = preprocess(x)\n",
    "X, y"
   ]
  },
  {
   "cell_type": "markdown",
   "metadata": {},
   "source": [
    "### OLS Linear Regression"
   ]
  },
  {
   "cell_type": "code",
   "execution_count": 81,
   "metadata": {},
   "outputs": [],
   "source": [
    "class OLSLinearRegression:\n",
    "    def fit(self, X, y):\n",
    "        ''' \n",
    "        This function is used to fit the model to the data. It uses the Ordinary Least Squares method to find the optimal parameters.\n",
    "\n",
    "        Parameters\n",
    "        ----------\n",
    "        X : np.array\n",
    "            Input data\n",
    "        y : np.array\n",
    "            Output data\n",
    "\n",
    "        Returns\n",
    "        -------\n",
    "        self : object\n",
    "            Returns the instance of the class\n",
    "        \n",
    "        '''\n",
    "\n",
    "        X_pinv = np.linalg.inv(X.T @ X) @ X.T    # np.linalg.pinv(X)\n",
    "        self.w = X_pinv @ y\n",
    "\n",
    "        return self\n",
    "\n",
    "\n",
    "    def get_params(self):\n",
    "        ''' \n",
    "        This function is used to get the parameters of the model.\n",
    "\n",
    "        Returns\n",
    "        -------\n",
    "        self.w : np.array\n",
    "            Optimal parameters (column vector)\n",
    "        '''\n",
    "\n",
    "        return self.w\n",
    "\n",
    "\n",
    "    def predict(self, X):\n",
    "        ''' \n",
    "        This function is used to predict the output of the model.\n",
    "\n",
    "        Parameters\n",
    "        ----------\n",
    "        X : np.array\n",
    "            Input data\n",
    "\n",
    "        Returns\n",
    "        -------\n",
    "        X @ self.w : np.array\n",
    "            Predicted output\n",
    "        '''\n",
    "\n",
    "        return X @ self.w   # Equivalent to np.dot(X, self.w). But why?"
   ]
  },
  {
   "cell_type": "code",
   "execution_count": 82,
   "metadata": {},
   "outputs": [],
   "source": [
    "lr = OLSLinearRegression().fit(X, y)"
   ]
  },
  {
   "cell_type": "code",
   "execution_count": 83,
   "metadata": {},
   "outputs": [
    {
     "data": {
      "text/plain": [
       "array([[-0.398     ],\n",
       "       [ 0.34714286],\n",
       "       [16.07142857]])"
      ]
     },
     "execution_count": 83,
     "metadata": {},
     "output_type": "execute_result"
    }
   ],
   "source": [
    "lr.get_params()"
   ]
  },
  {
   "cell_type": "markdown",
   "metadata": {},
   "source": [
    "### Trực quan hóa"
   ]
  },
  {
   "cell_type": "code",
   "execution_count": 84,
   "metadata": {},
   "outputs": [],
   "source": [
    "def plot_regression(lr, x, y):  \n",
    "    ''' \n",
    "    This function is used to plot the regression line and regression errors (residual).\n",
    "\n",
    "    Parameters\n",
    "    ----------\n",
    "    lr : object\n",
    "        Linear regression object\n",
    "    x : np.array\n",
    "        Input data\n",
    "    y : np.array\n",
    "        Output data\n",
    "\n",
    "    Returns\n",
    "    -------\n",
    "    None\n",
    "    '''\n",
    "\n",
    "    # Find predicted values\n",
    "    y_pred = lr.predict(preprocess(x))\n",
    "\n",
    "    # Calculate data for regression line\n",
    "    x_line = np.linspace(np.min(x), np.max(x), 1000).reshape(-1, 1)\n",
    "    \n",
    "    X_line_preproc = preprocess(x_line)\n",
    "    y_line = lr.predict(X_line_preproc)\n",
    "    \n",
    "    # Plot data/lines\n",
    "    _, ax = plt.subplots()\n",
    "\n",
    "    ax.scatter(x, y, color='b', marker='o')                     # Plot data\n",
    "    ax.plot(x_line, y_line, color='k')                          # Plot regression line\n",
    "    ax.vlines(x, y, y_pred, color='r', linestyles='dashed')     # Plot regression errors (residual)\n",
    "  \n",
    "    # Set labels\n",
    "    ax.set_xlabel('x')\n",
    "    ax.set_ylabel('y')\n",
    "    \n",
    "    plt.grid()\n",
    "    plt.show()"
   ]
  },
  {
   "cell_type": "code",
   "execution_count": null,
   "metadata": {},
   "outputs": [
    {
     "data": {
      "image/png": "[encoded data removed]",
      "text/plain": [
       "<Figure size 640x480 with 1 Axes>"
      ]
     },
     "metadata": {},
     "output_type": "display_data"
    }
   ],
   "source": [
    "plot_regression(lr, x, y) # feature engineering: f1 = 1, f2 = x, f3 = x^2"
   ]
  },
  {
   "cell_type": "code",
   "execution_count": null,
   "metadata": {},
   "outputs": [
    {
     "data": {
      "image/png": "[encoded data removed]",
      "text/plain": [
       "<Figure size 640x480 with 1 Axes>"
      ]
     },
     "metadata": {},
     "output_type": "display_data"
    }
   ],
   "source": [
    "# Test for a different dataset, same features but different x and y values\n",
    "x_t = np.array([0.1, 0.2, 0.3, 0.4, 0.5]).reshape(-1, 1)\n",
    "y_t = np.array([-0.18, 0.31, 3, 2.48, 5]).reshape(-1, 1)\n",
    "x_t, y_t\n",
    "X_t = preprocess(x_t)\n",
    "lr_t = OLSLinearRegression().fit(X_t, y_t)\n",
    "plot_regression(lr_t, x_t, y_t) \n",
    "\n",
    "# => old features are not suitable for this new dataset, so the regression line is not accurate"
   ]
  },
  {
   "cell_type": "markdown",
   "metadata": {},
   "source": [
    "##### Sinh viên cần tham khảo sách Stephen & Lieven [[1](https://courses.ctda.hcmus.edu.vn/pluginfile.php/154873/mod_resource/content/1/vmls.pdf)], chương 13 (13.2 + 13.3), để biết thêm về cách chọn feature và phương pháp đánh giá.\n",
    "[1] Stephen Boyd, Lieven Vandenberghe. Introduction to Applied Linear: Algebra, Matrices, and Least Squares, Cambridge University Press, 2018.\n"
   ]
  },
  {
   "cell_type": "markdown",
   "metadata": {},
   "source": [
    "## Phương pháp đo lường độ lỗi <a class=\"anchor\" id=\"c3\"></a>"
   ]
  },
  {
   "cell_type": "markdown",
   "metadata": {},
   "source": [
    "### Sai số (độ lỗi) tuyệt đối trung bình (MAE - Mean Absolute Error)"
   ]
  },
  {
   "cell_type": "markdown",
   "metadata": {},
   "source": [
    "MAE được dùng để ước lượng **trung bình của sai số (độ lỗi) tuyệt đối**, được tính bằng công thức:\n",
    "\n",
    "$$MAE = \\frac{1}{n} \\sum_{n}^{i = 1}|y_i - \\hat{y_i}|$$\n",
    "\n",
    "Trong đó:\n",
    "- $n$: số lượng mẫu quan sát\n",
    "- $y_i$: giá trị mục tiêu của mẫu thứ $i$\n",
    "- $\\hat{y_i}$: giá trị mục tiêu của mẫu thứ $i$ được dự đoán từ mô hình hồi quy tuyến tính\n",
    "\n",
    "=> Mô hình dự đoán chệch $mae$ đơn vị so với các giá trị thực tế đã quan sát được."
   ]
  },
  {
   "cell_type": "code",
   "execution_count": 87,
   "metadata": {},
   "outputs": [],
   "source": [
    "def mae(y, y_hat):\n",
    "    ''' \n",
    "    This function is used to calculate the mean absolute error (MAE).\n",
    "\n",
    "    Parameters\n",
    "    ----------\n",
    "    y : np.array\n",
    "        Output data\n",
    "    y_hat : np.array\n",
    "        Predicted output data\n",
    "\n",
    "    Returns\n",
    "    -------\n",
    "    np.mean(np.abs(y.ravel() - y_hat.ravel())) : float\n",
    "        Mean absolute error\n",
    "    '''\n",
    "\n",
    "    return np.mean(np.abs(y.ravel() - y_hat.ravel()))   # Quick questions: What does the ravel() do? \n",
    "                                                            # Why do we use it instead of np.mean(np.abs(y - y_hat))?"
   ]
  },
  {
   "cell_type": "code",
   "execution_count": 88,
   "metadata": {},
   "outputs": [
    {
     "data": {
      "text/plain": [
       "0.0761142857142875"
      ]
     },
     "execution_count": 88,
     "metadata": {},
     "output_type": "execute_result"
    }
   ],
   "source": [
    "y_hat = lr.predict(X)\n",
    "mae(y, y_hat)"
   ]
  },
  {
   "cell_type": "markdown",
   "metadata": {},
   "source": [
    "### Sai số (độ lỗi) bình phương trung bình (MSE - Mean Squared Error)"
   ]
  },
  {
   "cell_type": "markdown",
   "metadata": {},
   "source": [
    "MSE được dùng để ước lượng **trung bình của sai số (độ lỗi) bình phương**, được tính bằng công thức:\n",
    "\n",
    "$$MSE = \\frac{1}{n} \\sum_{n}^{i = 1}(y_i - \\hat{y_i})^2$$"
   ]
  },
  {
   "cell_type": "code",
   "execution_count": 89,
   "metadata": {},
   "outputs": [],
   "source": [
    "def mse(y, y_hat):\n",
    "    ''' \n",
    "    This function is used to calculate the mean squared error (MSE).\n",
    "\n",
    "    Parameters\n",
    "    ----------\n",
    "    y : np.array\n",
    "        Output data\n",
    "    y_hat : np.array\n",
    "        Predicted output data\n",
    "\n",
    "    Returns\n",
    "    -------\n",
    "    np.mean((y.ravel() - y_hat.ravel())**2) : float\n",
    "        Mean squared error\n",
    "    '''\n",
    "\n",
    "    return np.mean((y.ravel() - y_hat.ravel())**2)"
   ]
  },
  {
   "cell_type": "code",
   "execution_count": 90,
   "metadata": {},
   "outputs": [
    {
     "data": {
      "text/plain": [
       "0.009540571428571388"
      ]
     },
     "execution_count": 90,
     "metadata": {},
     "output_type": "execute_result"
    }
   ],
   "source": [
    "y_hat = lr.predict(X)\n",
    "mse(y, y_hat)"
   ]
  },
  {
   "cell_type": "markdown",
   "metadata": {},
   "source": [
    "### Căn bậc hai của sai số (độ lỗi) bình phương trung bình (RMSE - Root Mean Squared Error)"
   ]
  },
  {
   "cell_type": "markdown",
   "metadata": {},
   "source": [
    "RMSE được dùng để ước lượng **căn bậc hai trung bình của sai số (độ lỗi) bình phương**, được tính bằng công thức:\n",
    "\n",
    "$$RMSE = \\sqrt{MSE} = \\sqrt{\\frac{1}{n} \\sum_{n}^{i = 1}(y_i - \\hat{y_i})^2}$$"
   ]
  },
  {
   "cell_type": "code",
   "execution_count": 91,
   "metadata": {},
   "outputs": [],
   "source": [
    "def rmse(y, y_hat):\n",
    "    ''' \n",
    "    This function is used to calculate the root mean squared error (RMSE).\n",
    "\n",
    "    Parameters\n",
    "    ----------\n",
    "    y : np.array\n",
    "        Output data\n",
    "    y_hat : np.array\n",
    "        Predicted output data\n",
    "\n",
    "    Returns\n",
    "    -------\n",
    "    np.sqrt(np.mean((y.ravel() - y_hat.ravel())**2)) : float\n",
    "        Root mean squared error\n",
    "    '''\n",
    "\n",
    "\n",
    "    return np.sqrt(np.mean((y.ravel() - y_hat.ravel())**2))"
   ]
  },
  {
   "cell_type": "code",
   "execution_count": 92,
   "metadata": {},
   "outputs": [
    {
     "data": {
      "text/plain": [
       "0.09767584874763766"
      ]
     },
     "execution_count": 92,
     "metadata": {},
     "output_type": "execute_result"
    }
   ],
   "source": [
    "y_hat = lr.predict(X)\n",
    "rmse(y, y_hat)"
   ]
  },
  {
   "cell_type": "markdown",
   "metadata": {},
   "source": [
    "<center>---The End---</center>"
   ]
  }
 ],
 "metadata": {
  "kernelspec": {
   "display_name": "base",
   "language": "python",
   "name": "python3"
  },
  "language_info": {
   "codemirror_mode": {
    "name": "ipython",
    "version": 3
   },
   "file_extension": ".py",
   "mimetype": "text/x-python",
   "name": "python",
   "nbconvert_exporter": "python",
   "pygments_lexer": "ipython3",
   "version": "3.12.2"
  }
 },
 "nbformat": 4,
 "nbformat_minor": 2
}
